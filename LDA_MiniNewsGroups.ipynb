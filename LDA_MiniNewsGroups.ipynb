{
 "cells": [
  {
   "cell_type": "markdown",
   "metadata": {},
   "source": [
    "Topic modeling (unsupervised clustering) with Spark and [Latent Dirichlet Allocation](https://en.wikipedia.org/wiki/Latent_Dirichlet_allocation) (LDA). \n",
    "Dataset is mini_newsgroups from [here](http://kdd.ics.uci.edu/databases/20newsgroups/20newsgroups.html) "
   ]
  },
  {
   "cell_type": "code",
   "execution_count": 32,
   "metadata": {
    "collapsed": false
   },
   "outputs": [],
   "source": [
    "from pyspark import SparkContext\n",
    "from pyspark.mllib.clustering import LDA, LDAModel\n",
    "from pyspark.mllib.linalg import Vectors\n",
    "\n",
    "#sc = SparkContext(appName=\"LatentDirichletAllocationExample2\")  # SparkContext\n",
    "\n",
    "# Load documents from text files, 1 document per file\n",
    "corpus = sc.wholeTextFiles(\"datasets/mini_newsgroups/*/*\").map(lambda x: x[1])"
   ]
  },
  {
   "cell_type": "code",
   "execution_count": 42,
   "metadata": {
    "collapsed": false
   },
   "outputs": [
    {
     "name": "stdout",
     "output_type": "stream",
     "text": [
      "667\n"
     ]
    }
   ],
   "source": [
    "# standard english stop words\n",
    "with open(\"datasets/stopwords.txt\", \"r\") as f:\n",
    "    stopwords = set(f.read().splitlines())\n",
    "\n",
    "# specific to this dataset\n",
    "stopwords.add('article')\n",
    "stopwords.add('will')\n",
    "print(len(stopwords))"
   ]
  },
  {
   "cell_type": "code",
   "execution_count": 43,
   "metadata": {
    "collapsed": false
   },
   "outputs": [
    {
     "name": "stdout",
     "output_type": "stream",
     "text": [
      "False True True\n"
     ]
    }
   ],
   "source": [
    "print('like' not in stopwords, 'were' in stopwords, 'jesus' not in stopwords)"
   ]
  },
  {
   "cell_type": "code",
   "execution_count": 44,
   "metadata": {
    "collapsed": false
   },
   "outputs": [],
   "source": [
    "# Split each document into a sequence of terms (words)\n",
    "tokenized = corpus.map(lambda i: i.lower().split()).\\\n",
    "    map(lambda i: list(filter(lambda w: len(w) > 3 and w.isalpha() and w not in stopwords, i)))"
   ]
  },
  {
   "cell_type": "code",
   "execution_count": 45,
   "metadata": {
    "collapsed": false
   },
   "outputs": [
    {
     "name": "stdout",
     "output_type": "stream",
     "text": [
      "[('people', 834), ('university', 806), ('good', 536), ('time', 460), ('going', 372), ('find', 354), ('system', 349), ('image', 328), ('computer', 326), ('problem', 313), ('data', 307), ('work', 297), ('well', 284), ('state', 280), ('better', 279), ('news', 279), ('windows', 261), ('number', 255), ('help', 249), ('sure', 249), ('government', 244), ('program', 244), ('power', 240), ('file', 237), ('software', 236)]\n"
     ]
    }
   ],
   "source": [
    "# build vocabulary\n",
    "all_words = tokenized.flatMap(lambda l: l).collect()\n",
    "\n",
    "from collections import Counter\n",
    "cnt = Counter(all_words).most_common()\n",
    "cnt.sort(key=lambda x: x[1], reverse=True)\n",
    "\n",
    "# print top 25 words to check it's not stopwords or garbage\n",
    "print(cnt[:25])"
   ]
  },
  {
   "cell_type": "code",
   "execution_count": 46,
   "metadata": {
    "collapsed": false
   },
   "outputs": [
    {
     "name": "stdout",
     "output_type": "stream",
     "text": [
      "22379\n"
     ]
    }
   ],
   "source": [
    "# prepare vocab vector\n",
    "vocabArr = [a for (a,b) in cnt]\n",
    "vocab = dict({ (item, index) for (index, item) in enumerate(vocabArr) })\n",
    "\n",
    "print(len(vocab))"
   ]
  },
  {
   "cell_type": "code",
   "execution_count": 47,
   "metadata": {
    "collapsed": false
   },
   "outputs": [],
   "source": [
    "def to_vector(pair):\n",
    "    vec = [0]*len(vocabArr)\n",
    "    for word in pair[0]:\n",
    "        if word in vocab:\n",
    "            vec[vocab[word]] += 1\n",
    "    return [pair[1], Vectors.dense(vec)]\n",
    "\n",
    "# Convert documents into term count vectors\n",
    "documents = tokenized.zipWithIndex().map(to_vector)"
   ]
  },
  {
   "cell_type": "code",
   "execution_count": 48,
   "metadata": {
    "collapsed": false
   },
   "outputs": [
    {
     "name": "stdout",
     "output_type": "stream",
     "text": [
      "Learned topics (as distributions over vocab of 22379words)\n"
     ]
    }
   ],
   "source": [
    "# Cluster the documents into three topics using LDA\n",
    "ldaModel = LDA.train(documents, k=20)\n",
    "\n",
    "print(\"Learned topics (as distributions over vocab of \" + str(ldaModel.vocabSize()) + \"words)\")"
   ]
  },
  {
   "cell_type": "code",
   "execution_count": 49,
   "metadata": {
    "collapsed": false,
    "scrolled": false
   },
   "outputs": [
    {
     "name": "stdout",
     "output_type": "stream",
     "text": [
      "TOPIC:\n",
      "\tcanada: 0.009955370585666002\n",
      "\tuniversity: 0.009255400787371235\n",
      "\tgroup: 0.005935391393905406\n",
      "\tprinter: 0.005546916335778018\n",
      "\tcall: 0.005254214901441397\n",
      "\tgermany: 0.004934621676008525\n",
      "\tisrael: 0.0048111388901299545\n",
      "\tcomputer: 0.004630110539019527\n",
      "\tapril: 0.004616537800189283\n",
      "\tsystems: 0.004450505660681018\n",
      "TOPIC:\n",
      "\twindows: 0.02863532780051452\n",
      "\tdisk: 0.014135990120863223\n",
      "\twindow: 0.013717348025091055\n",
      "\tsupport: 0.013605243202843164\n",
      "\tnetwork: 0.013080793154365129\n",
      "\tsystem: 0.01079139133589274\n",
      "\tsoftware: 0.01033993403125817\n",
      "\tserver: 0.010158972581904534\n",
      "\tgraphics: 0.009442766288329116\n",
      "\trunning: 0.009203822307712254\n",
      "TOPIC:\n",
      "\tpolice: 0.012229667205915826\n",
      "\tuniversity: 0.010913968713088154\n",
      "\tyear: 0.008852286576048553\n",
      "\tgreek: 0.007123881257355777\n",
      "\ttitle: 0.006923755860073648\n",
      "\tturkish: 0.006512739093172437\n",
      "\tleague: 0.006204597274349862\n",
      "\tinsurance: 0.005471488497166305\n",
      "\tfrancisco: 0.004928853025651885\n",
      "\tauthor: 0.004809611172028609\n",
      "TOPIC:\n",
      "\timage: 0.03054051244775677\n",
      "\tjpeg: 0.015293703224877806\n",
      "\tdata: 0.013980571708232484\n",
      "\tfile: 0.01279563418991981\n",
      "\tsoftware: 0.010937148162957523\n",
      "\tfree: 0.009969372168925421\n",
      "\tversion: 0.009294170977746583\n",
      "\timages: 0.009075083042410542\n",
      "\tfiles: 0.008098160915056317\n",
      "\tcolor: 0.007144808570409891\n",
      "TOPIC:\n",
      "\tclock: 0.008628148282351082\n",
      "\thard: 0.008007563380032117\n",
      "\tuniversity: 0.007758108124339956\n",
      "\tpicture: 0.006681381141470636\n",
      "\tdrive: 0.0062973945034878985\n",
      "\tstraight: 0.0048363552000226205\n",
      "\tmale: 0.004809846767024325\n",
      "\tword: 0.004676362457124081\n",
      "\twright: 0.004422497945732941\n",
      "\tgood: 0.004392871253054216\n",
      "TOPIC:\n",
      "\tgovernment: 0.019220722116869374\n",
      "\tencryption: 0.014864910962019475\n",
      "\ttechnology: 0.010998560935868587\n",
      "\tchip: 0.009762228048395601\n",
      "\tclipper: 0.008607246199869046\n",
      "\taccess: 0.008055660115490346\n",
      "\tsecurity: 0.007666394088661103\n",
      "\tstation: 0.00755953231093927\n",
      "\tclinton: 0.006664292095250327\n",
      "\tkeys: 0.006000971564973273\n",
      "TOPIC:\n",
      "\tpeople: 0.02519756680526558\n",
      "\tjesus: 0.01005635790395485\n",
      "\tchristian: 0.009856739940246315\n",
      "\tchurch: 0.009840628152239793\n",
      "\tchristians: 0.0077209141216565864\n",
      "\tfaith: 0.006076701958593147\n",
      "\tbible: 0.006041147348629362\n",
      "\tthings: 0.005964398622920814\n",
      "\ttime: 0.005544724005546188\n",
      "\tpaul: 0.005438444996997003\n",
      "TOPIC:\n",
      "\tspace: 0.018946631614657927\n",
      "\tshuttle: 0.008443115939291394\n",
      "\trequests: 0.008187872033790738\n",
      "\tuniversity: 0.0073821868898563976\n",
      "\tcars: 0.006135327921868429\n",
      "\tradar: 0.005632300926802719\n",
      "\tlist: 0.005470975143477337\n",
      "\ttime: 0.005049146419738241\n",
      "\tmission: 0.004829903200865059\n",
      "\tmail: 0.004447225447801876\n",
      "TOPIC:\n",
      "\tpeople: 0.00946499513571368\n",
      "\tgood: 0.007395045924080241\n",
      "\tstate: 0.005537737817385553\n",
      "\ttime: 0.005298407561132636\n",
      "\tgame: 0.005189150057416634\n",
      "\tfind: 0.005189051322253494\n",
      "\tdoubt: 0.004935117483957912\n",
      "\tgreat: 0.004877333959995185\n",
      "\tread: 0.004122927465511373\n",
      "\tyears: 0.004102398547179739\n",
      "TOPIC:\n",
      "\tuniversity: 0.01524122577573178\n",
      "\tdrive: 0.014391039849280201\n",
      "\tproblem: 0.01239091085853662\n",
      "\tscsi: 0.011425152158692749\n",
      "\tcomputer: 0.0097004434533469\n",
      "\tvideo: 0.007513960877696842\n",
      "\tworking: 0.006085921006144512\n",
      "\tcard: 0.005279456394852155\n",
      "\tmonitor: 0.005267513706466991\n",
      "\tbetter: 0.00524143958551074\n",
      "TOPIC:\n",
      "\tjewish: 0.010253268165617347\n",
      "\tuniversity: 0.009960393816825737\n",
      "\tpeople: 0.007008362818570485\n",
      "\tarab: 0.006757104586072854\n",
      "\trights: 0.00615430573908886\n",
      "\tprice: 0.006062877972596522\n",
      "\tcourt: 0.0056077252823954\n",
      "\tsell: 0.005435004275235276\n",
      "\tisraeli: 0.005123090176162408\n",
      "\tarabs: 0.004474659655491229\n",
      "TOPIC:\n",
      "\tuniversity: 0.009546398734926766\n",
      "\ttime: 0.008358963124958249\n",
      "\treference: 0.007860683244837172\n",
      "\twestern: 0.006824868112544544\n",
      "\tmagi: 0.0059321414448424105\n",
      "\tcomputer: 0.005763445429850971\n",
      "\tcenter: 0.004917325401462238\n",
      "\tvideo: 0.0049133100019901265\n",
      "\twell: 0.004047138848174767\n",
      "\tfuture: 0.0033298099930289694\n",
      "TOPIC:\n",
      "\tgoing: 0.01936251772580454\n",
      "\tpresident: 0.01578674249046811\n",
      "\tgood: 0.008369084810903217\n",
      "\tpeople: 0.007962557393746997\n",
      "\tstate: 0.006715635161208074\n",
      "\tthing: 0.006309558404688864\n",
      "\tuniversity: 0.006029199178206756\n",
      "\tpress: 0.005788616690097715\n",
      "\tquestion: 0.0056473844664643455\n",
      "\tgroups: 0.005546829562442512\n",
      "TOPIC:\n",
      "\tpeople: 0.012570377579222703\n",
      "\tgoing: 0.011223213949957657\n",
      "\tstarted: 0.009331431528192186\n",
      "\tgame: 0.009281324495315275\n",
      "\tfire: 0.009236124619129774\n",
      "\tteam: 0.008890530952181381\n",
      "\tgood: 0.007376353304308665\n",
      "\tevidence: 0.007152159079317916\n",
      "\tkoresh: 0.006044479690002212\n",
      "\tclaim: 0.005106742553589291\n",
      "TOPIC:\n",
      "\tlaunch: 0.011985997128310007\n",
      "\tcubs: 0.00782560591174216\n",
      "\tvenus: 0.007054107566503437\n",
      "\tearth: 0.006929319752814524\n",
      "\tuniversity: 0.006891206153622084\n",
      "\tspace: 0.006685674552821031\n",
      "\tsoviet: 0.006185314626064656\n",
      "\tsolar: 0.005341181646293036\n",
      "\tsuck: 0.005055578195401565\n",
      "\tlunar: 0.004579733484401428\n",
      "TOPIC:\n",
      "\thealth: 0.011020128554773714\n",
      "\tmedical: 0.010278301621836333\n",
      "\tstudy: 0.00714825811915062\n",
      "\tcandida: 0.006085925698939985\n",
      "\tarmenians: 0.005870618441077722\n",
      "\tdrug: 0.0058450515172916795\n",
      "\thelp: 0.0057293956660840455\n",
      "\tfood: 0.005434761900009756\n",
      "\tnational: 0.005325915490983605\n",
      "\tturkish: 0.005294433650568446\n",
      "TOPIC:\n",
      "\tsound: 0.012015185217611862\n",
      "\tuniversity: 0.011139407739852796\n",
      "\tdata: 0.010406499536306771\n",
      "\tleft: 0.008796356282832997\n",
      "\tcomputer: 0.007447055682809118\n",
      "\tinput: 0.007301038432157641\n",
      "\tsystem: 0.006745539597021911\n",
      "\tproblem: 0.006026751034793381\n",
      "\twork: 0.005137530325870681\n",
      "\tsend: 0.005024679312494456\n",
      "TOPIC:\n",
      "\tpower: 0.013340964124940917\n",
      "\twire: 0.01151888193877243\n",
      "\twiring: 0.009581614213254527\n",
      "\tcable: 0.008594609564597079\n",
      "\tground: 0.008149132880250185\n",
      "\telectrical: 0.0071037826463420375\n",
      "\tcircuit: 0.007025452923151235\n",
      "\tgood: 0.00568328131630828\n",
      "\tlocal: 0.0049756914784858525\n",
      "\thouse: 0.00482375495552877\n",
      "TOPIC:\n",
      "\tprogram: 0.01597819566171856\n",
      "\tentry: 0.014521455779540659\n",
      "\tinfo: 0.014200126000146387\n",
      "\tsource: 0.013072451387041573\n",
      "\temail: 0.012792676298529827\n",
      "\tnumber: 0.012246359847539448\n",
      "\tsure: 0.010548701122356471\n",
      "\tsend: 0.009345278931398873\n",
      "\tbuild: 0.009316130161420645\n",
      "\tbest: 0.007826946744154163\n",
      "TOPIC:\n",
      "\tuniversity: 0.007664168346424984\n",
      "\tmorality: 0.006539672478695018\n",
      "\tscience: 0.006228274618694599\n",
      "\tobjective: 0.005568595229506852\n",
      "\tcomputer: 0.005407602493158055\n",
      "\tgood: 0.004508557237981109\n",
      "\ttheory: 0.00440973592269857\n",
      "\tpeople: 0.004055321417934597\n",
      "\tword: 0.0040504707017880275\n",
      "\twell: 0.0034849085904024002\n",
      "\n"
     ]
    }
   ],
   "source": [
    "# Print topics, showing top-weighted 10 terms for each topic.\n",
    "topicIndices = ldaModel.describeTopics(maxTermsPerTopic = 10)\n",
    "\n",
    "with open(\"Output.txt\", \"w\") as f:\n",
    "    for terms, termWeights in topicIndices:\n",
    "        print(\"TOPIC:\", file=f)\n",
    "        for term, weight in zip(terms, termWeights):\n",
    "            print(\"\\t{0}: {1}\".format(vocabArr[term], str(weight)), file=f)\n",
    "            \n",
    "with open(\"Output.txt\", \"r\") as f:\n",
    "    print(f.read())"
   ]
  }
 ],
 "metadata": {
  "kernelspec": {
   "display_name": "Python 3",
   "language": "python",
   "name": "python3"
  },
  "language_info": {
   "codemirror_mode": {
    "name": "ipython",
    "version": 3
   },
   "file_extension": ".py",
   "mimetype": "text/x-python",
   "name": "python",
   "nbconvert_exporter": "python",
   "pygments_lexer": "ipython3",
   "version": "3.5.2"
  }
 },
 "nbformat": 4,
 "nbformat_minor": 1
}
